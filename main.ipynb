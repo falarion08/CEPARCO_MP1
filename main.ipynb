{
  "nbformat": 4,
  "nbformat_minor": 0,
  "metadata": {
    "colab": {
      "provenance": [],
      "authorship_tag": "ABX9TyMALMUW3afhcOxB7ZCMnANl",
      "include_colab_link": true
    },
    "kernelspec": {
      "name": "python3",
      "display_name": "Python 3"
    },
    "language_info": {
      "name": "python"
    }
  },
  "cells": [
    {
      "cell_type": "markdown",
      "metadata": {
        "id": "view-in-github",
        "colab_type": "text"
      },
      "source": [
        "<a href=\"https://colab.research.google.com/github/falarion08/CEPARCO_MP1/blob/main/main.ipynb\" target=\"_parent\"><img src=\"https://colab.research.google.com/assets/colab-badge.svg\" alt=\"Open In Colab\"/></a>"
      ]
    },
    {
      "cell_type": "markdown",
      "source": [
        "#Group 3\n",
        "Authors:\n",
        "\n",
        "Barrion, Ryan Onil\n",
        "\n",
        "Geronimo, Michael Robert\n",
        "\n",
        "Roledo, Jan Carlo\n",
        "\n",
        "Solis, Frances Danielle"
      ],
      "metadata": {
        "id": "xw2YPJrHJO9F"
      }
    },
    {
      "cell_type": "code",
      "execution_count": null,
      "metadata": {
        "id": "2ypxpFXOJI0D"
      },
      "outputs": [],
      "source": [
        "dafa"
      ]
    }
  ]
}